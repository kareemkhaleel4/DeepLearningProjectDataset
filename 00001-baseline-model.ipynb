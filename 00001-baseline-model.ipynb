{
 "cells": [
  {
   "cell_type": "markdown",
   "id": "af2ae599",
   "metadata": {},
   "source": [
    "This file represnet the baseline notebook."
   ]
  },
  {
   "cell_type": "code",
   "execution_count": 1,
   "id": "a995de4c",
   "metadata": {},
   "outputs": [],
   "source": [
    "#Add all imports required\n",
    "import os\n",
    "import pandas as pd\n",
    "from sklearn.metrics import classification_report, confusion_matrix\n",
    "import matplotlib.pyplot as plt\n",
    "from tqdm import tqdm\n",
    "import torch\n",
    "import torch.nn as nn\n",
    "from torch.utils.data import Dataset, DataLoader\n",
    "from torchvision import transforms\n",
    "from PIL import Image\n",
    "from utils import *\n"
   ]
  },
  {
   "cell_type": "code",
   "execution_count": 2,
   "id": "91921275",
   "metadata": {},
   "outputs": [
    {
     "name": "stdout",
     "output_type": "stream",
     "text": [
      "Using device: cuda\n"
     ]
    }
   ],
   "source": [
    "device = torch.device(\"cuda\" if torch.cuda.is_available() else \"cpu\")\n",
    "print(f'Using device: {device}')\n",
    "\n",
    "# Define your classes\n",
    "GENERAL_CLASSES = ['Fetal abdomen', 'Fetal brain', 'Fetal femur', \n",
    "                   'Fetal thorax', 'Maternal cervix', 'Other']\n",
    "CLASS_TO_IDX = {cls: idx for idx, cls in enumerate(GENERAL_CLASSES)}\n",
    "\n",
    "\n",
    "csv_path = 'FETAL_PLANES_DB_data.csv'\n",
    "image_dir = './Images/'\n",
    "#batch_size = 16\n",
    "#epochs = 15\n",
    "#lr = 1e-4 # original\n",
    "# epochs = 20 \n",
    "# lr = 1e-3 // updated 1\n",
    "# epochs = 50\n",
    "# lr = 5e-4\n",
    "# transform = transforms.Compose([#transformer 1\n",
    "#     transforms.Resize((128, 128)), #// original\n",
    "#     transforms.RandomHorizontalFlip(),\n",
    "#     transforms.ToTensor(),\n",
    "#     transforms.Normalize([0.5], [0.5])\n",
    "# ])\n",
    "# transform = transforms.Compose([ # transformer 2\n",
    "#     transforms.Resize((224, 224)),\n",
    "#    # transforms.Resize((128, 128)), // original\n",
    "#     transforms.RandomHorizontalFlip(),\n",
    "#     transforms.ToTensor(),\n",
    "#     transforms.Normalize([0.5], [0.5])\n",
    "# ])\n",
    "# transform = transforms.Compose([ # transformer 3\n",
    "#     transforms.Resize((224, 224)),\n",
    "#     transforms.RandomHorizontalFlip(),\n",
    "#     transforms.RandomRotation(10),\n",
    "#     transforms.ColorJitter(brightness=0.1, contrast=0.1),\n",
    "#     transforms.ToTensor(),\n",
    "#     transforms.Normalize([0.5], [0.5])  # Single channel\n",
    "# ])\n"
   ]
  },
  {
   "cell_type": "code",
   "execution_count": 4,
   "id": "86a39d25",
   "metadata": {},
   "outputs": [
    {
     "name": "stdout",
     "output_type": "stream",
     "text": [
      "************* First Run *****************\n"
     ]
    },
    {
     "name": "stderr",
     "output_type": "stream",
     "text": [
      "Training Epoch 1/8: 100%|██████████| 446/446 [00:47<00:00,  9.49it/s]\n"
     ]
    },
    {
     "name": "stdout",
     "output_type": "stream",
     "text": [
      "Epoch 1, Loss: 0.7056\n",
      "Test Accuracy: 0.7862\n",
      "\n",
      "Classification Report:\n",
      "                 precision    recall  f1-score   support\n",
      "\n",
      "  Fetal abdomen       0.56      0.03      0.05       358\n",
      "    Fetal brain       0.99      0.90      0.95      1472\n",
      "    Fetal femur       0.81      0.63      0.71       524\n",
      "   Fetal thorax       0.61      0.86      0.71       660\n",
      "Maternal cervix       0.86      0.98      0.92       645\n",
      "          Other       0.69      0.79      0.74      1612\n",
      "\n",
      "       accuracy                           0.79      5271\n",
      "      macro avg       0.75      0.70      0.68      5271\n",
      "   weighted avg       0.79      0.79      0.77      5271\n",
      "\n",
      "Confusion Matrix:\n",
      " [[  10    0    3  109   21  215]\n",
      " [   4 1330   20   40    9   69]\n",
      " [   0    1  330    5    2  186]\n",
      " [   2    0    2  569    2   85]\n",
      " [   0    0    1    2  634    8]\n",
      " [   2    8   52  213   66 1271]]\n"
     ]
    },
    {
     "name": "stderr",
     "output_type": "stream",
     "text": [
      "Training Epoch 2/8: 100%|██████████| 446/446 [00:46<00:00,  9.50it/s]\n"
     ]
    },
    {
     "name": "stdout",
     "output_type": "stream",
     "text": [
      "Epoch 2, Loss: 0.3823\n",
      "Test Accuracy: 0.7983\n",
      "\n",
      "Classification Report:\n",
      "                 precision    recall  f1-score   support\n",
      "\n",
      "  Fetal abdomen       0.80      0.22      0.35       358\n",
      "    Fetal brain       0.93      0.99      0.96      1472\n",
      "    Fetal femur       0.80      0.75      0.77       524\n",
      "   Fetal thorax       0.47      0.99      0.64       660\n",
      "Maternal cervix       0.99      0.98      0.99       645\n",
      "          Other       0.91      0.62      0.74      1612\n",
      "\n",
      "       accuracy                           0.80      5271\n",
      "      macro avg       0.82      0.76      0.74      5271\n",
      "   weighted avg       0.85      0.80      0.79      5271\n",
      "\n",
      "Confusion Matrix:\n",
      " [[  80   11    2  223    0   42]\n",
      " [   0 1452    2   12    0    6]\n",
      " [   1   23  392   65    0   43]\n",
      " [   1    3    1  652    0    3]\n",
      " [   1    2    1    6  635    0]\n",
      " [  17   73   94  425    6  997]]\n"
     ]
    },
    {
     "name": "stderr",
     "output_type": "stream",
     "text": [
      "Training Epoch 3/8: 100%|██████████| 446/446 [00:46<00:00,  9.56it/s]\n"
     ]
    },
    {
     "name": "stdout",
     "output_type": "stream",
     "text": [
      "Epoch 3, Loss: 0.2788\n",
      "Test Accuracy: 0.8543\n",
      "\n",
      "Classification Report:\n",
      "                 precision    recall  f1-score   support\n",
      "\n",
      "  Fetal abdomen       0.87      0.39      0.53       358\n",
      "    Fetal brain       0.98      0.97      0.97      1472\n",
      "    Fetal femur       0.94      0.51      0.66       524\n",
      "   Fetal thorax       0.73      0.93      0.82       660\n",
      "Maternal cervix       0.98      1.00      0.99       645\n",
      "          Other       0.76      0.88      0.81      1612\n",
      "\n",
      "       accuracy                           0.85      5271\n",
      "      macro avg       0.88      0.78      0.80      5271\n",
      "   weighted avg       0.87      0.85      0.85      5271\n",
      "\n",
      "Confusion Matrix:\n",
      " [[ 138    8    0   76    0  136]\n",
      " [   1 1425    0   14    1   31]\n",
      " [   0    4  265    7    1  247]\n",
      " [   1    1    0  616    0   42]\n",
      " [   0    0    0    0  643    2]\n",
      " [  19   17   16  132   12 1416]]\n"
     ]
    },
    {
     "name": "stderr",
     "output_type": "stream",
     "text": [
      "Training Epoch 4/8: 100%|██████████| 446/446 [00:47<00:00,  9.31it/s]\n"
     ]
    },
    {
     "name": "stdout",
     "output_type": "stream",
     "text": [
      "Epoch 4, Loss: 0.2232\n",
      "Test Accuracy: 0.8774\n",
      "\n",
      "Classification Report:\n",
      "                 precision    recall  f1-score   support\n",
      "\n",
      "  Fetal abdomen       0.69      0.86      0.77       358\n",
      "    Fetal brain       0.97      0.99      0.98      1472\n",
      "    Fetal femur       0.83      0.85      0.84       524\n",
      "   Fetal thorax       0.70      0.96      0.81       660\n",
      "Maternal cervix       0.98      1.00      0.99       645\n",
      "          Other       0.94      0.71      0.81      1612\n",
      "\n",
      "       accuracy                           0.88      5271\n",
      "      macro avg       0.85      0.89      0.86      5271\n",
      "   weighted avg       0.89      0.88      0.88      5271\n",
      "\n",
      "Confusion Matrix:\n",
      " [[ 309    2    2   32    0   13]\n",
      " [   4 1453    2    9    0    4]\n",
      " [   4   12  447   11    0   50]\n",
      " [  13    3    0  634    0   10]\n",
      " [   1    0    0    0  644    0]\n",
      " [ 118   34   89  220   13 1138]]\n"
     ]
    },
    {
     "name": "stderr",
     "output_type": "stream",
     "text": [
      "Training Epoch 5/8: 100%|██████████| 446/446 [01:27<00:00,  5.10it/s]\n"
     ]
    },
    {
     "name": "stdout",
     "output_type": "stream",
     "text": [
      "Epoch 5, Loss: 0.1837\n",
      "Test Accuracy: 0.8943\n",
      "\n",
      "Classification Report:\n",
      "                 precision    recall  f1-score   support\n",
      "\n",
      "  Fetal abdomen       0.79      0.83      0.81       358\n",
      "    Fetal brain       0.99      0.98      0.99      1472\n",
      "    Fetal femur       0.82      0.84      0.83       524\n",
      "   Fetal thorax       0.74      0.96      0.84       660\n",
      "Maternal cervix       0.97      1.00      0.98       645\n",
      "          Other       0.91      0.78      0.84      1612\n",
      "\n",
      "       accuracy                           0.89      5271\n",
      "      macro avg       0.87      0.90      0.88      5271\n",
      "   weighted avg       0.90      0.89      0.89      5271\n",
      "\n",
      "Confusion Matrix:\n",
      " [[ 297    1    1   30    1   28]\n",
      " [   3 1448    2    7    4    8]\n",
      " [   0    0  441    7    2   74]\n",
      " [   8    1    1  633    0   17]\n",
      " [   1    0    0    0  644    0]\n",
      " [  67   13   91  178   12 1251]]\n"
     ]
    },
    {
     "name": "stderr",
     "output_type": "stream",
     "text": [
      "Training Epoch 6/8: 100%|██████████| 446/446 [01:33<00:00,  4.75it/s]\n"
     ]
    },
    {
     "name": "stdout",
     "output_type": "stream",
     "text": [
      "Epoch 6, Loss: 0.1402\n",
      "Test Accuracy: 0.8926\n",
      "\n",
      "Classification Report:\n",
      "                 precision    recall  f1-score   support\n",
      "\n",
      "  Fetal abdomen       0.78      0.82      0.80       358\n",
      "    Fetal brain       0.98      0.98      0.98      1472\n",
      "    Fetal femur       0.90      0.73      0.81       524\n",
      "   Fetal thorax       0.76      0.95      0.84       660\n",
      "Maternal cervix       0.99      0.99      0.99       645\n",
      "          Other       0.87      0.82      0.84      1612\n",
      "\n",
      "       accuracy                           0.89      5271\n",
      "      macro avg       0.88      0.88      0.88      5271\n",
      "   weighted avg       0.90      0.89      0.89      5271\n",
      "\n",
      "Confusion Matrix:\n",
      " [[ 292    1    0   18    2   45]\n",
      " [   3 1449    1    8    0   11]\n",
      " [   0    4  382   22    0  116]\n",
      " [   8    0    0  628    0   24]\n",
      " [   1    0    1    0  640    3]\n",
      " [  70   26   41  155    6 1314]]\n"
     ]
    },
    {
     "name": "stderr",
     "output_type": "stream",
     "text": [
      "Training Epoch 7/8: 100%|██████████| 446/446 [01:34<00:00,  4.73it/s]\n"
     ]
    },
    {
     "name": "stdout",
     "output_type": "stream",
     "text": [
      "Epoch 7, Loss: 0.1238\n",
      "Test Accuracy: 0.8938\n",
      "\n",
      "Classification Report:\n",
      "                 precision    recall  f1-score   support\n",
      "\n",
      "  Fetal abdomen       0.69      0.89      0.78       358\n",
      "    Fetal brain       0.98      0.99      0.98      1472\n",
      "    Fetal femur       0.81      0.88      0.84       524\n",
      "   Fetal thorax       0.81      0.93      0.87       660\n",
      "Maternal cervix       0.99      0.99      0.99       645\n",
      "          Other       0.91      0.75      0.83      1612\n",
      "\n",
      "       accuracy                           0.89      5271\n",
      "      macro avg       0.86      0.91      0.88      5271\n",
      "   weighted avg       0.90      0.89      0.89      5271\n",
      "\n",
      "Confusion Matrix:\n",
      " [[ 318    3    1   12    0   24]\n",
      " [   5 1458    1    3    0    5]\n",
      " [   0    3  463    1    0   57]\n",
      " [  11    2    0  616    0   31]\n",
      " [   1    0    1    0  639    4]\n",
      " [ 123   27  108  130    7 1217]]\n"
     ]
    },
    {
     "name": "stderr",
     "output_type": "stream",
     "text": [
      "Training Epoch 8/8: 100%|██████████| 446/446 [01:35<00:00,  4.68it/s]\n"
     ]
    },
    {
     "name": "stdout",
     "output_type": "stream",
     "text": [
      "Epoch 8, Loss: 0.1007\n",
      "Test Accuracy: 0.8926\n",
      "\n",
      "Classification Report:\n",
      "                 precision    recall  f1-score   support\n",
      "\n",
      "  Fetal abdomen       0.76      0.89      0.82       358\n",
      "    Fetal brain       0.99      0.99      0.99      1472\n",
      "    Fetal femur       0.87      0.85      0.86       524\n",
      "   Fetal thorax       0.71      0.97      0.82       660\n",
      "Maternal cervix       0.99      1.00      0.99       645\n",
      "          Other       0.91      0.75      0.82      1612\n",
      "\n",
      "       accuracy                           0.89      5271\n",
      "      macro avg       0.87      0.91      0.88      5271\n",
      "   weighted avg       0.90      0.89      0.89      5271\n",
      "\n",
      "Confusion Matrix:\n",
      " [[ 320    1    0   18    0   19]\n",
      " [   3 1451    1    8    0    9]\n",
      " [   2    1  443    9    0   69]\n",
      " [   4    0    0  640    0   16]\n",
      " [   1    0    0    0  643    1]\n",
      " [  89   19   67  224    5 1208]]\n"
     ]
    },
    {
     "data": {
      "image/png": "[encoded data removed]",
      "text/plain": [
       "<Figure size 1200x500 with 2 Axes>"
      ]
     },
     "metadata": {},
     "output_type": "display_data"
    },
    {
     "name": "stdout",
     "output_type": "stream",
     "text": [
      "{5: {'loss': '0.1837', 'accuracy': '0.8943'}}\n"
     ]
    }
   ],
   "source": [
    "#First run:\n",
    "print(\"************* First Run *****************\")\n",
    "batch_size = 16\n",
    "epochs = 8\n",
    "lr = 1e-4\n",
    "transform = transforms.Compose([#transformer 1\n",
    "    transforms.Resize((128, 128)), #// original\n",
    "    transforms.RandomHorizontalFlip(),\n",
    "    transforms.ToTensor(),\n",
    "    transforms.Normalize([0.5], [0.5])\n",
    "])\n",
    "train_loader, test_loader = load_data(csv_path, image_dir, batch_size, transform)\n",
    "\n",
    "model = CNNImproved(num_classes=len(GENERAL_CLASSES))\n",
    "train(model, train_loader, test_loader, epochs, lr)\n"
   ]
  },
  {
   "cell_type": "code",
   "execution_count": 5,
   "id": "08f1ab0a",
   "metadata": {},
   "outputs": [
    {
     "name": "stderr",
     "output_type": "stream",
     "text": [
      "Training Epoch 1/15: 100%|██████████| 446/446 [02:33<00:00,  2.90it/s]\n"
     ]
    },
    {
     "name": "stdout",
     "output_type": "stream",
     "text": [
      "Epoch 1, Loss: 0.8228\n",
      "Test Accuracy: 0.7718\n",
      "\n",
      "Classification Report:\n",
      "                 precision    recall  f1-score   support\n",
      "\n",
      "  Fetal abdomen       0.40      0.02      0.04       358\n",
      "    Fetal brain       0.94      0.89      0.91      1472\n",
      "    Fetal femur       0.76      0.70      0.73       524\n",
      "   Fetal thorax       0.54      0.80      0.65       660\n",
      "Maternal cervix       0.98      0.98      0.98       645\n",
      "          Other       0.70      0.75      0.73      1612\n",
      "\n",
      "       accuracy                           0.77      5271\n",
      "      macro avg       0.72      0.69      0.67      5271\n",
      "   weighted avg       0.77      0.77      0.75      5271\n",
      "\n",
      "Confusion Matrix:\n",
      " [[   8   10   10  145    0  185]\n",
      " [   1 1312   15   29    4  111]\n",
      " [   2   33  369   13    0  107]\n",
      " [   2    7    7  530    1  113]\n",
      " [   0    5    0    0  635    5]\n",
      " [   7   30   85  265   11 1214]]\n"
     ]
    },
    {
     "name": "stderr",
     "output_type": "stream",
     "text": [
      "Training Epoch 2/15: 100%|██████████| 446/446 [02:32<00:00,  2.92it/s]\n"
     ]
    },
    {
     "name": "stdout",
     "output_type": "stream",
     "text": [
      "Epoch 2, Loss: 0.5048\n",
      "Test Accuracy: 0.7932\n",
      "\n",
      "Classification Report:\n",
      "                 precision    recall  f1-score   support\n",
      "\n",
      "  Fetal abdomen       0.62      0.08      0.15       358\n",
      "    Fetal brain       0.93      0.96      0.95      1472\n",
      "    Fetal femur       0.85      0.56      0.68       524\n",
      "   Fetal thorax       0.72      0.63      0.67       660\n",
      "Maternal cervix       0.93      0.98      0.95       645\n",
      "          Other       0.66      0.86      0.75      1612\n",
      "\n",
      "       accuracy                           0.79      5271\n",
      "      macro avg       0.79      0.68      0.69      5271\n",
      "   weighted avg       0.79      0.79      0.77      5271\n",
      "\n",
      "Confusion Matrix:\n",
      " [[  30   17    2   57    6  246]\n",
      " [   0 1416    8    2    5   41]\n",
      " [   0   38  295    2   11  178]\n",
      " [   2   13    0  413    3  229]\n",
      " [   0    0    0    0  633   12]\n",
      " [  16   40   41   98   23 1394]]\n"
     ]
    },
    {
     "name": "stderr",
     "output_type": "stream",
     "text": [
      "Training Epoch 3/15: 100%|██████████| 446/446 [01:49<00:00,  4.08it/s]\n"
     ]
    },
    {
     "name": "stdout",
     "output_type": "stream",
     "text": [
      "Epoch 3, Loss: 0.4141\n",
      "Test Accuracy: 0.8154\n",
      "\n",
      "Classification Report:\n",
      "                 precision    recall  f1-score   support\n",
      "\n",
      "  Fetal abdomen       0.71      0.20      0.31       358\n",
      "    Fetal brain       0.97      0.93      0.95      1472\n",
      "    Fetal femur       0.85      0.68      0.76       524\n",
      "   Fetal thorax       0.69      0.75      0.72       660\n",
      "Maternal cervix       0.93      1.00      0.96       645\n",
      "          Other       0.70      0.85      0.77      1612\n",
      "\n",
      "       accuracy                           0.82      5271\n",
      "      macro avg       0.81      0.73      0.74      5271\n",
      "   weighted avg       0.82      0.82      0.80      5271\n",
      "\n",
      "Confusion Matrix:\n",
      " [[  70    6    5   83    7  187]\n",
      " [   2 1363    2   15    5   85]\n",
      " [   0   12  358    1    6  147]\n",
      " [   5    6    0  493    2  154]\n",
      " [   0    0    0    0  643    2]\n",
      " [  22   14   56  121   28 1371]]\n"
     ]
    },
    {
     "name": "stderr",
     "output_type": "stream",
     "text": [
      "Training Epoch 4/15: 100%|██████████| 446/446 [01:55<00:00,  3.86it/s]\n"
     ]
    },
    {
     "name": "stdout",
     "output_type": "stream",
     "text": [
      "Epoch 4, Loss: 0.3618\n",
      "Test Accuracy: 0.8363\n",
      "\n",
      "Classification Report:\n",
      "                 precision    recall  f1-score   support\n",
      "\n",
      "  Fetal abdomen       0.70      0.54      0.61       358\n",
      "    Fetal brain       0.99      0.91      0.95      1472\n",
      "    Fetal femur       0.88      0.68      0.77       524\n",
      "   Fetal thorax       0.74      0.73      0.73       660\n",
      "Maternal cervix       0.99      0.98      0.99       645\n",
      "          Other       0.72      0.87      0.79      1612\n",
      "\n",
      "       accuracy                           0.84      5271\n",
      "      macro avg       0.84      0.79      0.81      5271\n",
      "   weighted avg       0.85      0.84      0.84      5271\n",
      "\n",
      "Confusion Matrix:\n",
      " [[ 195    1    0   48    0  114]\n",
      " [  12 1333    8   22    1   96]\n",
      " [   3    1  357    1    0  162]\n",
      " [  14    0    0  480    0  166]\n",
      " [   0    0    0    1  634   10]\n",
      " [  55   10   40   95    3 1409]]\n"
     ]
    },
    {
     "name": "stderr",
     "output_type": "stream",
     "text": [
      "Training Epoch 5/15: 100%|██████████| 446/446 [01:59<00:00,  3.73it/s]\n"
     ]
    },
    {
     "name": "stdout",
     "output_type": "stream",
     "text": [
      "Epoch 5, Loss: 0.3056\n",
      "Test Accuracy: 0.8367\n",
      "\n",
      "Classification Report:\n",
      "                 precision    recall  f1-score   support\n",
      "\n",
      "  Fetal abdomen       0.79      0.47      0.59       358\n",
      "    Fetal brain       0.98      0.98      0.98      1472\n",
      "    Fetal femur       0.76      0.92      0.83       524\n",
      "   Fetal thorax       0.55      0.95      0.69       660\n",
      "Maternal cervix       0.99      1.00      0.99       645\n",
      "          Other       0.91      0.64      0.75      1612\n",
      "\n",
      "       accuracy                           0.84      5271\n",
      "      macro avg       0.83      0.83      0.81      5271\n",
      "   weighted avg       0.87      0.84      0.84      5271\n",
      "\n",
      "Confusion Matrix:\n",
      " [[ 168    3    6  133    0   48]\n",
      " [   3 1449    4   10    1    5]\n",
      " [   2    3  483   13    0   23]\n",
      " [   4    1    3  629    0   23]\n",
      " [   1    0    0    0  644    0]\n",
      " [  35   27  138  367    8 1037]]\n"
     ]
    },
    {
     "name": "stderr",
     "output_type": "stream",
     "text": [
      "Training Epoch 6/15: 100%|██████████| 446/446 [02:40<00:00,  2.78it/s]\n"
     ]
    },
    {
     "name": "stdout",
     "output_type": "stream",
     "text": [
      "Epoch 6, Loss: 0.2772\n",
      "Test Accuracy: 0.8864\n",
      "\n",
      "Classification Report:\n",
      "                 precision    recall  f1-score   support\n",
      "\n",
      "  Fetal abdomen       0.82      0.63      0.71       358\n",
      "    Fetal brain       0.97      0.98      0.98      1472\n",
      "    Fetal femur       0.81      0.89      0.85       524\n",
      "   Fetal thorax       0.76      0.90      0.83       660\n",
      "Maternal cervix       0.98      0.99      0.99       645\n",
      "          Other       0.86      0.81      0.83      1612\n",
      "\n",
      "       accuracy                           0.89      5271\n",
      "      macro avg       0.87      0.87      0.86      5271\n",
      "   weighted avg       0.89      0.89      0.89      5271\n",
      "\n",
      "Confusion Matrix:\n",
      " [[ 224    7    1   47    0   79]\n",
      " [   3 1444    3    4    1   17]\n",
      " [   0    3  466    0    1   54]\n",
      " [   3    2    1  593    0   61]\n",
      " [   1    0    1    0  640    3]\n",
      " [  41   26  100  132    8 1305]]\n"
     ]
    },
    {
     "name": "stderr",
     "output_type": "stream",
     "text": [
      "Training Epoch 7/15: 100%|██████████| 446/446 [02:19<00:00,  3.19it/s]\n"
     ]
    },
    {
     "name": "stdout",
     "output_type": "stream",
     "text": [
      "Epoch 7, Loss: 0.2470\n",
      "Test Accuracy: 0.8714\n",
      "\n",
      "Classification Report:\n",
      "                 precision    recall  f1-score   support\n",
      "\n",
      "  Fetal abdomen       0.85      0.63      0.72       358\n",
      "    Fetal brain       0.99      0.97      0.98      1472\n",
      "    Fetal femur       0.89      0.81      0.85       524\n",
      "   Fetal thorax       0.62      0.98      0.76       660\n",
      "Maternal cervix       0.99      0.99      0.99       645\n",
      "          Other       0.88      0.76      0.82      1612\n",
      "\n",
      "       accuracy                           0.87      5271\n",
      "      macro avg       0.87      0.86      0.85      5271\n",
      "   weighted avg       0.89      0.87      0.87      5271\n",
      "\n",
      "Confusion Matrix:\n",
      " [[ 225    1    0   82    0   50]\n",
      " [   4 1423    2   20    1   22]\n",
      " [   0    1  424    8    0   91]\n",
      " [   2    0    1  648    0    9]\n",
      " [   1    0    0    3  641    0]\n",
      " [  33   12   47  284    4 1232]]\n"
     ]
    },
    {
     "name": "stderr",
     "output_type": "stream",
     "text": [
      "Training Epoch 8/15: 100%|██████████| 446/446 [00:58<00:00,  7.61it/s]\n"
     ]
    },
    {
     "name": "stdout",
     "output_type": "stream",
     "text": [
      "Epoch 8, Loss: 0.2148\n",
      "Test Accuracy: 0.8765\n",
      "\n",
      "Classification Report:\n",
      "                 precision    recall  f1-score   support\n",
      "\n",
      "  Fetal abdomen       0.72      0.87      0.79       358\n",
      "    Fetal brain       0.97      0.98      0.98      1472\n",
      "    Fetal femur       0.76      0.90      0.82       524\n",
      "   Fetal thorax       0.72      0.96      0.82       660\n",
      "Maternal cervix       0.98      1.00      0.99       645\n",
      "          Other       0.93      0.69      0.79      1612\n",
      "\n",
      "       accuracy                           0.88      5271\n",
      "      macro avg       0.85      0.90      0.87      5271\n",
      "   weighted avg       0.89      0.88      0.88      5271\n",
      "\n",
      "Confusion Matrix:\n",
      " [[ 313    1    5   30    1    8]\n",
      " [   4 1446   10    5    1    6]\n",
      " [   1    1  474    4    0   44]\n",
      " [   4    0    1  635    0   20]\n",
      " [   1    0    0    1  643    0]\n",
      " [ 114   38  137  206    8 1109]]\n"
     ]
    },
    {
     "name": "stderr",
     "output_type": "stream",
     "text": [
      "Training Epoch 9/15: 100%|██████████| 446/446 [00:59<00:00,  7.44it/s]\n"
     ]
    },
    {
     "name": "stdout",
     "output_type": "stream",
     "text": [
      "Epoch 9, Loss: 0.1999\n",
      "Test Accuracy: 0.9002\n",
      "\n",
      "Classification Report:\n",
      "                 precision    recall  f1-score   support\n",
      "\n",
      "  Fetal abdomen       0.86      0.82      0.84       358\n",
      "    Fetal brain       0.99      0.98      0.99      1472\n",
      "    Fetal femur       0.85      0.87      0.86       524\n",
      "   Fetal thorax       0.72      0.93      0.81       660\n",
      "Maternal cervix       0.99      1.00      0.99       645\n",
      "          Other       0.90      0.80      0.85      1612\n",
      "\n",
      "       accuracy                           0.90      5271\n",
      "      macro avg       0.89      0.90      0.89      5271\n",
      "   weighted avg       0.91      0.90      0.90      5271\n",
      "\n",
      "Confusion Matrix:\n",
      " [[ 292    0    0   39    0   27]\n",
      " [   3 1443    1    8    2   15]\n",
      " [   0    1  458    9    0   56]\n",
      " [   5    0    0  613    0   42]\n",
      " [   1    0    0    0  643    1]\n",
      " [  40   13   81  178    4 1296]]\n"
     ]
    },
    {
     "name": "stderr",
     "output_type": "stream",
     "text": [
      "Training Epoch 10/15: 100%|██████████| 446/446 [01:56<00:00,  3.83it/s]\n"
     ]
    },
    {
     "name": "stdout",
     "output_type": "stream",
     "text": [
      "Epoch 10, Loss: 0.1799\n",
      "Test Accuracy: 0.9015\n",
      "\n",
      "Classification Report:\n",
      "                 precision    recall  f1-score   support\n",
      "\n",
      "  Fetal abdomen       0.85      0.71      0.77       358\n",
      "    Fetal brain       0.98      0.99      0.99      1472\n",
      "    Fetal femur       0.84      0.85      0.85       524\n",
      "   Fetal thorax       0.80      0.91      0.85       660\n",
      "Maternal cervix       0.99      1.00      0.99       645\n",
      "          Other       0.87      0.84      0.85      1612\n",
      "\n",
      "       accuracy                           0.90      5271\n",
      "      macro avg       0.89      0.88      0.88      5271\n",
      "   weighted avg       0.90      0.90      0.90      5271\n",
      "\n",
      "Confusion Matrix:\n",
      " [[ 254    4    0   30    0   70]\n",
      " [   3 1458    1    4    1    5]\n",
      " [   0    2  448    1    0   73]\n",
      " [   2    1    1  601    0   55]\n",
      " [   1    0    0    0  643    1]\n",
      " [  38   23   82  117    4 1348]]\n"
     ]
    },
    {
     "name": "stderr",
     "output_type": "stream",
     "text": [
      "Training Epoch 11/15: 100%|██████████| 446/446 [01:57<00:00,  3.79it/s]\n"
     ]
    },
    {
     "name": "stdout",
     "output_type": "stream",
     "text": [
      "Epoch 11, Loss: 0.1629\n",
      "Test Accuracy: 0.8907\n",
      "\n",
      "Classification Report:\n",
      "                 precision    recall  f1-score   support\n",
      "\n",
      "  Fetal abdomen       0.86      0.75      0.80       358\n",
      "    Fetal brain       0.98      0.99      0.98      1472\n",
      "    Fetal femur       0.78      0.94      0.85       524\n",
      "   Fetal thorax       0.72      0.96      0.82       660\n",
      "Maternal cervix       0.99      0.99      0.99       645\n",
      "          Other       0.93      0.75      0.83      1612\n",
      "\n",
      "       accuracy                           0.89      5271\n",
      "      macro avg       0.87      0.90      0.88      5271\n",
      "   weighted avg       0.90      0.89      0.89      5271\n",
      "\n",
      "Confusion Matrix:\n",
      " [[ 267    9    1   44    0   37]\n",
      " [   3 1462    3    1    0    3]\n",
      " [   0    2  492    1    0   29]\n",
      " [   3    1    0  632    0   24]\n",
      " [   1    0    0    0  640    4]\n",
      " [  38   25  135  204    8 1202]]\n"
     ]
    },
    {
     "name": "stderr",
     "output_type": "stream",
     "text": [
      "Training Epoch 12/15: 100%|██████████| 446/446 [01:56<00:00,  3.83it/s]\n"
     ]
    },
    {
     "name": "stdout",
     "output_type": "stream",
     "text": [
      "Epoch 12, Loss: 0.1492\n",
      "Test Accuracy: 0.9059\n",
      "\n",
      "Classification Report:\n",
      "                 precision    recall  f1-score   support\n",
      "\n",
      "  Fetal abdomen       0.79      0.90      0.84       358\n",
      "    Fetal brain       0.99      0.98      0.98      1472\n",
      "    Fetal femur       0.89      0.83      0.86       524\n",
      "   Fetal thorax       0.79      0.94      0.86       660\n",
      "Maternal cervix       0.97      1.00      0.99       645\n",
      "          Other       0.89      0.81      0.85      1612\n",
      "\n",
      "       accuracy                           0.91      5271\n",
      "      macro avg       0.89      0.91      0.90      5271\n",
      "   weighted avg       0.91      0.91      0.91      5271\n",
      "\n",
      "Confusion Matrix:\n",
      " [[ 322    1    0   15    0   20]\n",
      " [   3 1445    2    5    1   16]\n",
      " [   0    1  433    1    0   89]\n",
      " [   5    1    0  620    0   34]\n",
      " [   1    0    0    0  643    1]\n",
      " [  75   16   53  140   16 1312]]\n"
     ]
    },
    {
     "name": "stderr",
     "output_type": "stream",
     "text": [
      "Training Epoch 13/15: 100%|██████████| 446/446 [01:56<00:00,  3.83it/s]\n"
     ]
    },
    {
     "name": "stdout",
     "output_type": "stream",
     "text": [
      "Epoch 13, Loss: 0.1479\n",
      "Test Accuracy: 0.8839\n",
      "\n",
      "Classification Report:\n",
      "                 precision    recall  f1-score   support\n",
      "\n",
      "  Fetal abdomen       0.88      0.81      0.84       358\n",
      "    Fetal brain       0.99      0.97      0.98      1472\n",
      "    Fetal femur       0.91      0.66      0.76       524\n",
      "   Fetal thorax       0.75      0.94      0.83       660\n",
      "Maternal cervix       0.94      0.99      0.96       645\n",
      "          Other       0.83      0.83      0.83      1612\n",
      "\n",
      "       accuracy                           0.88      5271\n",
      "      macro avg       0.88      0.87      0.87      5271\n",
      "   weighted avg       0.89      0.88      0.88      5271\n",
      "\n",
      "Confusion Matrix:\n",
      " [[ 291    0    0   31    2   34]\n",
      " [   3 1422    0   14    5   28]\n",
      " [   0    0  345    3    0  176]\n",
      " [   2    0    0  618    1   39]\n",
      " [   1    0    1    2  638    3]\n",
      " [  34    9   35  156   33 1345]]\n"
     ]
    },
    {
     "name": "stderr",
     "output_type": "stream",
     "text": [
      "Training Epoch 14/15: 100%|██████████| 446/446 [01:55<00:00,  3.85it/s]\n"
     ]
    },
    {
     "name": "stdout",
     "output_type": "stream",
     "text": [
      "Epoch 14, Loss: 0.1318\n",
      "Test Accuracy: 0.9061\n",
      "\n",
      "Classification Report:\n",
      "                 precision    recall  f1-score   support\n",
      "\n",
      "  Fetal abdomen       0.84      0.89      0.87       358\n",
      "    Fetal brain       0.99      0.98      0.98      1472\n",
      "    Fetal femur       0.86      0.78      0.81       524\n",
      "   Fetal thorax       0.86      0.88      0.87       660\n",
      "Maternal cervix       0.99      0.99      0.99       645\n",
      "          Other       0.85      0.86      0.86      1612\n",
      "\n",
      "       accuracy                           0.91      5271\n",
      "      macro avg       0.90      0.90      0.90      5271\n",
      "   weighted avg       0.91      0.91      0.91      5271\n",
      "\n",
      "Confusion Matrix:\n",
      " [[ 319    0    0    6    0   33]\n",
      " [   3 1440    3    3    2   21]\n",
      " [   0    0  407    0    0  117]\n",
      " [   4    0    2  579    0   75]\n",
      " [   1    0    0    0  638    6]\n",
      " [  51   16   63   84    5 1393]]\n"
     ]
    },
    {
     "name": "stderr",
     "output_type": "stream",
     "text": [
      "Training Epoch 15/15: 100%|██████████| 446/446 [01:56<00:00,  3.82it/s]\n"
     ]
    },
    {
     "name": "stdout",
     "output_type": "stream",
     "text": [
      "Epoch 15, Loss: 0.1188\n",
      "Test Accuracy: 0.9186\n",
      "\n",
      "Classification Report:\n",
      "                 precision    recall  f1-score   support\n",
      "\n",
      "  Fetal abdomen       0.86      0.86      0.86       358\n",
      "    Fetal brain       0.99      0.99      0.99      1472\n",
      "    Fetal femur       0.84      0.89      0.86       524\n",
      "   Fetal thorax       0.85      0.92      0.88       660\n",
      "Maternal cervix       0.99      0.99      0.99       645\n",
      "          Other       0.90      0.84      0.87      1612\n",
      "\n",
      "       accuracy                           0.92      5271\n",
      "      macro avg       0.90      0.92      0.91      5271\n",
      "   weighted avg       0.92      0.92      0.92      5271\n",
      "\n",
      "Confusion Matrix:\n",
      " [[ 307    3    0   12    2   34]\n",
      " [   3 1458    3    0    0    8]\n",
      " [   0    0  468    0    0   56]\n",
      " [   4    0    0  607    0   49]\n",
      " [   1    0    1    0  641    2]\n",
      " [  44   17   87   96    7 1361]]\n"
     ]
    },
    {
     "data": {
      "image/png": "[encoded data removed]",
      "text/plain": [
       "<Figure size 1200x500 with 2 Axes>"
      ]
     },
     "metadata": {},
     "output_type": "display_data"
    },
    {
     "name": "stdout",
     "output_type": "stream",
     "text": [
      "{5: {'loss': '0.3056', 'accuracy': '0.8367'}, 10: {'loss': '0.1799', 'accuracy': '0.9015'}, 15: {'loss': '0.1188', 'accuracy': '0.9186'}}\n"
     ]
    }
   ],
   "source": [
    "batch_size = 16\n",
    "epochs = 15\n",
    "lr = 1e-4 # original\n",
    "transform = transforms.Compose([ # transformer 3\n",
    "    transforms.Resize((224, 224)),\n",
    "    transforms.RandomHorizontalFlip(),\n",
    "    transforms.RandomRotation(10),\n",
    "    transforms.ColorJitter(brightness=0.1, contrast=0.1),\n",
    "    transforms.ToTensor(),\n",
    "    transforms.Normalize([0.5], [0.5])  # Single channel\n",
    "])\n",
    "train_loader, test_loader = load_data(csv_path, image_dir, batch_size, transform)\n",
    "\n",
    "model = CNNImproved(num_classes=len(GENERAL_CLASSES))\n",
    "train(model, train_loader, test_loader, epochs, lr)"
   ]
  },
  {
   "cell_type": "code",
   "execution_count": null,
   "id": "fd0d187d",
   "metadata": {},
   "outputs": [],
   "source": []
  }
 ],
 "metadata": {
  "kernelspec": {
   "display_name": "Python 3",
   "language": "python",
   "name": "python3"
  },
  "language_info": {
   "codemirror_mode": {
    "name": "ipython",
    "version": 3
   },
   "file_extension": ".py",
   "mimetype": "text/x-python",
   "name": "python",
   "nbconvert_exporter": "python",
   "pygments_lexer": "ipython3",
   "version": "3.11.0"
  }
 },
 "nbformat": 4,
 "nbformat_minor": 5
}
